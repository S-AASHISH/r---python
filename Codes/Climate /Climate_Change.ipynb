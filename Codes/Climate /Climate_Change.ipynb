{
 "cells": [
  {
   "cell_type": "code",
   "execution_count": 162,
   "id": "e1f147b5",
   "metadata": {},
   "outputs": [],
   "source": [
    "import glob\n",
    "import xarray as xr\n",
    "import pandas as pd\n",
    "import numpy as np\n",
    "from netCDF4 import Dataset, num2date, date2num"
   ]
  },
  {
   "cell_type": "code",
   "execution_count": 163,
   "id": "afcea653",
   "metadata": {},
   "outputs": [],
   "source": [
    "stn_loc = pd.read_csv('Met_Station_list_Nagmati.csv')"
   ]
  },
  {
   "cell_type": "code",
   "execution_count": 183,
   "id": "ac02ea16",
   "metadata": {},
   "outputs": [],
   "source": [
    "data = Dataset(r'C:\\Users\\aamir\\Desktop\\Final_Year_Project\\Climate_Change\\historical.nc', 'r')\n",
    "time = data.variables['time']\n",
    "year = [i for i in time]\n",
    "all_years = [i for i in range(1992, 2015)]"
   ]
  },
  {
   "cell_type": "code",
   "execution_count": 171,
   "id": "9a432a66",
   "metadata": {
    "scrolled": false
   },
   "outputs": [],
   "source": [
    "year_start = min(all_years) \n",
    "end_year = max(all_years)\n",
    "date_range = pd.date_range(start = str(year_start) + '-01-01', \n",
    "                           end = str(end_year) + '-12-31', \n",
    "                           freq = 'D')\n",
    "df = pd.DataFrame(0.0, columns = ['pr'], index = date_range)"
   ]
  },
  {
   "cell_type": "code",
   "execution_count": 167,
   "id": "368da2b7",
   "metadata": {},
   "outputs": [],
   "source": [
    "precip = data.variables['pr']"
   ]
  },
  {
   "cell_type": "code",
   "execution_count": 182,
   "id": "576516f4",
   "metadata": {},
   "outputs": [],
   "source": [
    "for i in range(15000, len(precip)):\n",
    "    if str(pd.to_datetime(time[i], origin='1850/1/1', unit='D')) == '1992-01-01 12:00:00':\n",
    "        indi = i"
   ]
  },
  {
   "cell_type": "code",
   "execution_count": 181,
   "id": "974e2a11",
   "metadata": {},
   "outputs": [],
   "source": [
    "for index, row in stn_loc.iterrows():\n",
    "    stn = row['INDEX']\n",
    "    stn_lat = row['LAT']\n",
    "    stn_lon = row['LONG']\n",
    "    \n",
    "    for yr in all_years:\n",
    "        data = Dataset('historical.nc', 'r')\n",
    "        \n",
    "        lat = data.variables['lat'][:]\n",
    "        lon = data.variables['lon'][:]\n",
    "        \n",
    "        sq_diff_lat = (lat - stn_lat)**2 \n",
    "        sq_diff_lon = (lon - stn_lon)**2\n",
    "        \n",
    "        min_index_lat = sq_diff_lat.argmin()\n",
    "        min_index_lon = sq_diff_lon.argmin()\n",
    "        \n",
    "        precip = data.variables['pr']\n",
    "        \n",
    "        start = str(yr) + '-01-01'\n",
    "        end = str(yr) + '-12-31'\n",
    "        \n",
    "        d_range = pd.date_range(start = start, \n",
    "                                end = end, \n",
    "                                freq = 'D')\n",
    "        \n",
    "        for i in np.arange(0, len(d_range)):\n",
    "            df.loc[d_range[i]]['pr'] = round(precip[i + indi, min_index_lat, min_index_lon] * 86400, 3)\n",
    "    \n",
    "    df.to_csv(stn +'.csv')"
   ]
  },
  {
   "cell_type": "code",
   "execution_count": 188,
   "id": "84aee66b",
   "metadata": {},
   "outputs": [],
   "source": [
    "st_1030 = pd.read_csv(r'st_1030.csv')\n",
    "st_1074 = pd.read_csv(r'st_1074.csv')\n",
    "st_1077 = pd.read_csv(r'st_1077.csv')"
   ]
  },
  {
   "cell_type": "code",
   "execution_count": null,
   "id": "75361c0d",
   "metadata": {},
   "outputs": [],
   "source": []
  }
 ],
 "metadata": {
  "kernelspec": {
   "display_name": "Python 3 (ipykernel)",
   "language": "python",
   "name": "python3"
  },
  "language_info": {
   "codemirror_mode": {
    "name": "ipython",
    "version": 3
   },
   "file_extension": ".py",
   "mimetype": "text/x-python",
   "name": "python",
   "nbconvert_exporter": "python",
   "pygments_lexer": "ipython3",
   "version": "3.9.13"
  }
 },
 "nbformat": 4,
 "nbformat_minor": 5
}
